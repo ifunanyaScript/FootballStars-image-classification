{
 "cells": [
  {
   "cell_type": "markdown",
   "id": "c5ae5e25",
   "metadata": {},
   "source": [
    "# Model Development"
   ]
  },
  {
   "cell_type": "code",
   "execution_count": 34,
   "id": "5add9d63",
   "metadata": {},
   "outputs": [],
   "source": [
    "import pandas as pd\n",
    "import numpy as np\n",
    "from sklearn.model_selection import train_test_split as tts\n",
    "from sklearn.model_selection import GridSearchCV\n",
    "from sklearn.preprocessing import StandardScaler\n",
    "from sklearn.linear_model import LogisticRegression\n",
    "from sklearn.ensemble import RandomForestClassifier\n",
    "from sklearn.pipeline import Pipeline\n",
    "from sklearn.pipeline import make_pipeline\n",
    "from sklearn.svm import SVC\n",
    "from sklearn.metrics import classification_report as cr\n",
    "from sklearn.metrics import confusion_matrix"
   ]
  },
  {
   "cell_type": "code",
   "execution_count": 17,
   "id": "02faf953",
   "metadata": {},
   "outputs": [],
   "source": [
    "# Load the training data variables\n",
    "%store -r X\n",
    "%store -r Y"
   ]
  },
  {
   "cell_type": "code",
   "execution_count": 18,
   "id": "5a39d6ba",
   "metadata": {},
   "outputs": [
    {
     "data": {
      "text/plain": [
       "((469, 4096), 469)"
      ]
     },
     "execution_count": 18,
     "metadata": {},
     "output_type": "execute_result"
    }
   ],
   "source": [
    "X.shape, len(Y)"
   ]
  },
  {
   "cell_type": "code",
   "execution_count": 11,
   "id": "98f5365c",
   "metadata": {},
   "outputs": [],
   "source": [
    "X_train, X_test, Y_train, Y_test = tts(X, Y, test_size=0.1, random_state=123)"
   ]
  },
  {
   "cell_type": "code",
   "execution_count": 19,
   "id": "26e9b33f",
   "metadata": {},
   "outputs": [
    {
     "name": "stdout",
     "output_type": "stream",
     "text": [
      "Accuracy of the classifier: 89.36%\n"
     ]
    }
   ],
   "source": [
    "C = 1000\n",
    "pipeline = Pipeline([(\"scaler\", StandardScaler()), (\"svc\", SVC(kernel=\"linear\", C=C))])\n",
    "pipeline.fit(X_train, Y_train)\n",
    "accuracy = pipeline.score(X_test, Y_test)\n",
    "print(f\"Accuracy of the classifier: {accuracy*100:.2f}%\")"
   ]
  },
  {
   "cell_type": "code",
   "execution_count": 20,
   "id": "b2735341",
   "metadata": {},
   "outputs": [
    {
     "name": "stdout",
     "output_type": "stream",
     "text": [
      "              precision    recall  f1-score   support\n",
      "\n",
      "           0       0.91      0.83      0.87        12\n",
      "           1       0.80      0.67      0.73         6\n",
      "           2       1.00      0.90      0.95        10\n",
      "           3       1.00      1.00      1.00         3\n",
      "           4       0.91      1.00      0.95        10\n",
      "           5       0.75      1.00      0.86         6\n",
      "\n",
      "    accuracy                           0.89        47\n",
      "   macro avg       0.89      0.90      0.89        47\n",
      "weighted avg       0.90      0.89      0.89        47\n",
      "\n"
     ]
    }
   ],
   "source": [
    "print(cr(Y_test, pipeline.predict(X_test)))"
   ]
  },
  {
   "cell_type": "code",
   "execution_count": 21,
   "id": "35182b1c",
   "metadata": {},
   "outputs": [],
   "source": [
    "models_and_params = {\n",
    "    \"svm\": {\n",
    "        \"model\": SVC(gamma=\"auto\", probability=True),\n",
    "        \"params\": {\n",
    "            \"svc__C\": [1, 10, 100, 1000],\n",
    "            \"svc__kernel\": [\"rbf\", \"linear\"]\n",
    "        }\n",
    "    },\n",
    "    \n",
    "    \"logistic_regression\": {\n",
    "        \"model\": LogisticRegression(solver=\"liblinear\", multi_class=\"auto\"),\n",
    "        \"params\": {\n",
    "            \"logisticregression__C\": [1, 5, 10]\n",
    "        }\n",
    "    },\n",
    "    \n",
    "    \"random_forest\": {\n",
    "        \"model\": RandomForestClassifier(),\n",
    "        \"params\": {\n",
    "            \"randomforestclassifier__n_estimators\": [1, 5, 10]\n",
    "        }\n",
    "    }\n",
    "}"
   ]
  },
  {
   "cell_type": "code",
   "execution_count": 29,
   "id": "00d5d961",
   "metadata": {},
   "outputs": [
    {
     "data": {
      "text/html": [
       "<div>\n",
       "<style scoped>\n",
       "    .dataframe tbody tr th:only-of-type {\n",
       "        vertical-align: middle;\n",
       "    }\n",
       "\n",
       "    .dataframe tbody tr th {\n",
       "        vertical-align: top;\n",
       "    }\n",
       "\n",
       "    .dataframe thead th {\n",
       "        text-align: right;\n",
       "    }\n",
       "</style>\n",
       "<table border=\"1\" class=\"dataframe\">\n",
       "  <thead>\n",
       "    <tr style=\"text-align: right;\">\n",
       "      <th></th>\n",
       "      <th>model</th>\n",
       "      <th>best_score</th>\n",
       "      <th>best_params</th>\n",
       "    </tr>\n",
       "  </thead>\n",
       "  <tbody>\n",
       "    <tr>\n",
       "      <th>0</th>\n",
       "      <td>svm</td>\n",
       "      <td>0.831793</td>\n",
       "      <td>{'svc__C': 1, 'svc__kernel': 'linear'}</td>\n",
       "    </tr>\n",
       "    <tr>\n",
       "      <th>1</th>\n",
       "      <td>logistic_regression</td>\n",
       "      <td>0.857703</td>\n",
       "      <td>{'logisticregression__C': 1}</td>\n",
       "    </tr>\n",
       "    <tr>\n",
       "      <th>2</th>\n",
       "      <td>random_forest</td>\n",
       "      <td>0.609048</td>\n",
       "      <td>{'randomforestclassifier__n_estimators': 10}</td>\n",
       "    </tr>\n",
       "  </tbody>\n",
       "</table>\n",
       "</div>"
      ],
      "text/plain": [
       "                 model  best_score  \\\n",
       "0                  svm    0.831793   \n",
       "1  logistic_regression    0.857703   \n",
       "2        random_forest    0.609048   \n",
       "\n",
       "                                    best_params  \n",
       "0        {'svc__C': 1, 'svc__kernel': 'linear'}  \n",
       "1                  {'logisticregression__C': 1}  \n",
       "2  {'randomforestclassifier__n_estimators': 10}  "
      ]
     },
     "execution_count": 29,
     "metadata": {},
     "output_type": "execute_result"
    }
   ],
   "source": [
    "cv=5\n",
    "scores = []\n",
    "best_estimators = {}\n",
    "for algo, mp in models_and_params.items():\n",
    "    pipeline = make_pipeline(StandardScaler(), mp[\"model\"])\n",
    "    classifier = GridSearchCV(pipeline, mp[\"params\"], cv=cv, return_train_score=False)\n",
    "    classifier.fit(X_train, Y_train)\n",
    "    scores.append({\n",
    "        \"model\": algo,\n",
    "        \"best_score\": classifier.best_score_,\n",
    "        \"best_params\": classifier.best_params_\n",
    "    })\n",
    "    \n",
    "    best_estimators[algo] = classifier.best_estimator_\n",
    "\n",
    "df = pd.DataFrame(scores)\n",
    "df"
   ]
  },
  {
   "cell_type": "code",
   "execution_count": 30,
   "id": "a73f0148",
   "metadata": {},
   "outputs": [
    {
     "data": {
      "text/plain": [
       "{'svm': Pipeline(steps=[('standardscaler', StandardScaler()),\n",
       "                 ('svc',\n",
       "                  SVC(C=1, gamma='auto', kernel='linear', probability=True))]),\n",
       " 'logistic_regression': Pipeline(steps=[('standardscaler', StandardScaler()),\n",
       "                 ('logisticregression',\n",
       "                  LogisticRegression(C=1, solver='liblinear'))]),\n",
       " 'random_forest': Pipeline(steps=[('standardscaler', StandardScaler()),\n",
       "                 ('randomforestclassifier',\n",
       "                  RandomForestClassifier(n_estimators=10))])}"
      ]
     },
     "execution_count": 30,
     "metadata": {},
     "output_type": "execute_result"
    }
   ],
   "source": [
    "best_estimators"
   ]
  },
  {
   "cell_type": "code",
   "execution_count": 31,
   "id": "d9efe80c",
   "metadata": {},
   "outputs": [
    {
     "data": {
      "text/plain": [
       "0.8936170212765957"
      ]
     },
     "execution_count": 31,
     "metadata": {},
     "output_type": "execute_result"
    }
   ],
   "source": [
    "best_estimators[\"svm\"].score(X_test, Y_test)"
   ]
  },
  {
   "cell_type": "code",
   "execution_count": 32,
   "id": "ed6dcf22",
   "metadata": {},
   "outputs": [
    {
     "data": {
      "text/plain": [
       "0.851063829787234"
      ]
     },
     "execution_count": 32,
     "metadata": {},
     "output_type": "execute_result"
    }
   ],
   "source": [
    "best_estimators[\"logistic_regression\"].score(X_test, Y_test)"
   ]
  },
  {
   "cell_type": "code",
   "execution_count": 33,
   "id": "b84a88d5",
   "metadata": {},
   "outputs": [
    {
     "data": {
      "text/plain": [
       "0.7659574468085106"
      ]
     },
     "execution_count": 33,
     "metadata": {},
     "output_type": "execute_result"
    }
   ],
   "source": [
    "best_estimators[\"random_forest\"].score(X_test, Y_test)"
   ]
  },
  {
   "cell_type": "code",
   "execution_count": null,
   "id": "1c8cedf7",
   "metadata": {},
   "outputs": [],
   "source": []
  }
 ],
 "metadata": {
  "kernelspec": {
   "display_name": "Python 3 (ipykernel)",
   "language": "python",
   "name": "python3"
  },
  "language_info": {
   "codemirror_mode": {
    "name": "ipython",
    "version": 3
   },
   "file_extension": ".py",
   "mimetype": "text/x-python",
   "name": "python",
   "nbconvert_exporter": "python",
   "pygments_lexer": "ipython3",
   "version": "3.9.12"
  }
 },
 "nbformat": 4,
 "nbformat_minor": 5
}
