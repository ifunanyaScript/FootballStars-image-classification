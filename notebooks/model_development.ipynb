{
 "cells": [
  {
   "cell_type": "markdown",
   "id": "c5ae5e25",
   "metadata": {},
   "source": [
    "# Model Development\n",
    "\n",
    "Normally, one would use CNN for image classification problems, but for this project I am using a different approach. There are other machine learning algorithms that can perform decently in image classification. \n",
    "\n",
    "I will be using the ***Scikit-learn*** library for this classification task."
   ]
  },
  {
   "cell_type": "code",
   "execution_count": 1,
   "id": "5add9d63",
   "metadata": {},
   "outputs": [],
   "source": [
    "# Import necessary packages.\n",
    "%matplotlib inline\n",
    "import matplotlib.pyplot as plt\n",
    "import pandas as pd\n",
    "import numpy as np\n",
    "import seaborn as sns\n",
    "from sklearn.model_selection import train_test_split as tts\n",
    "from sklearn.model_selection import GridSearchCV\n",
    "from sklearn.preprocessing import StandardScaler\n",
    "from sklearn.linear_model import LogisticRegression\n",
    "from sklearn.ensemble import RandomForestClassifier\n",
    "from sklearn.pipeline import Pipeline, make_pipeline\n",
    "from sklearn.svm import SVC\n",
    "from sklearn.metrics import classification_report as cr\n",
    "from sklearn.metrics import confusion_matrix\n",
    "import pickle\n",
    "import json"
   ]
  },
  {
   "cell_type": "code",
   "execution_count": 2,
   "id": "02faf953",
   "metadata": {},
   "outputs": [],
   "source": [
    "# Load the training data variables\n",
    "%store -r X\n",
    "%store -r Y"
   ]
  },
  {
   "cell_type": "code",
   "execution_count": 3,
   "id": "5a39d6ba",
   "metadata": {},
   "outputs": [
    {
     "data": {
      "text/plain": [
       "((541, 4096), 541)"
      ]
     },
     "execution_count": 3,
     "metadata": {},
     "output_type": "execute_result"
    }
   ],
   "source": [
    "X.shape, len(Y)"
   ]
  },
  {
   "cell_type": "code",
   "execution_count": 4,
   "id": "98f5365c",
   "metadata": {},
   "outputs": [],
   "source": [
    "# Split the data into training and testing chunks.\n",
    "X_train, X_test, Y_train, Y_test = tts(X, Y, test_size=0.1, random_state=123)"
   ]
  },
  {
   "cell_type": "markdown",
   "id": "2b9ac0b3",
   "metadata": {},
   "source": [
    "Let's use the SVC model and see how well it performs."
   ]
  },
  {
   "cell_type": "code",
   "execution_count": 5,
   "id": "26e9b33f",
   "metadata": {},
   "outputs": [
    {
     "name": "stdout",
     "output_type": "stream",
     "text": [
      "Accuracy of the classifier: 90.91%\n"
     ]
    }
   ],
   "source": [
    "C = 100\n",
    "pipeline = Pipeline([(\"scaler\", StandardScaler()), (\"svc\", SVC(kernel=\"linear\", C=C))])\n",
    "# Training step.\n",
    "pipeline.fit(X_train, Y_train)\n",
    "accuracy = pipeline.score(X_test, Y_test)\n",
    "print(f\"Accuracy of the classifier: {accuracy*100:.2f}%\")"
   ]
  },
  {
   "cell_type": "markdown",
   "id": "88123c50",
   "metadata": {},
   "source": [
    "We can view a more detailed performance and measure the quality of the model using the classification report. The metrics of the report is compiled using **True Positive**, **True Negative**, **False Positive**, **False Negative**. These are generally used to assess a classification algorithm.  \n",
    "**TN / True Negative**: when a case was negative and predicted negative.  \n",
    "**TP / True Positive**: when a case was positive and predicted positive.  \n",
    "**FN / False Negative**: when a case was positive but predicted negative.  \n",
    "**FP / False Positive**: when a case was negative but predicted positive.  "
   ]
  },
  {
   "cell_type": "code",
   "execution_count": 6,
   "id": "b2735341",
   "metadata": {
    "scrolled": true
   },
   "outputs": [
    {
     "name": "stdout",
     "output_type": "stream",
     "text": [
      "              precision    recall  f1-score   support\n",
      "\n",
      "           0       0.92      0.92      0.92        13\n",
      "           1       1.00      1.00      1.00         8\n",
      "           2       0.75      0.60      0.67         5\n",
      "           3       1.00      1.00      1.00        12\n",
      "           4       0.90      0.90      0.90        10\n",
      "           5       0.75      0.86      0.80         7\n",
      "\n",
      "    accuracy                           0.91        55\n",
      "   macro avg       0.89      0.88      0.88        55\n",
      "weighted avg       0.91      0.91      0.91        55\n",
      "\n"
     ]
    }
   ],
   "source": [
    "print(cr(Y_test, pipeline.predict(X_test)))"
   ]
  },
  {
   "cell_type": "markdown",
   "id": "59eb77ce",
   "metadata": {},
   "source": [
    "**Precision** measures the accuracy of positive prediction: ```TP/(TP+FP)```  \n",
    "**Recall** measures the ability of the model to correctly predict positive cases: ```TP/(TP+FN)```  \n",
    "**F1-score** is a harmonic mean of precision and recall: ```2 * (Precision*Recall)/(Precision+Recall)```"
   ]
  },
  {
   "cell_type": "markdown",
   "id": "0ac7a04f",
   "metadata": {},
   "source": [
    "The tedious job in model training is hyperparameter tuning. In most case, your first choice of hyperparameters might not be the best to fully optimise the model; as a result, there's a need to fine-tune these hyperparameters to make the best of the model.\n",
    "\n",
    "It is always better to implement an automated approach towards solving a time-consuming task, instead of handling it manually; hence, I'll use **GridSearchCV** to tune hyperparameters and finally select the hyperparamters that best optimise the model."
   ]
  },
  {
   "cell_type": "code",
   "execution_count": 7,
   "id": "35182b1c",
   "metadata": {},
   "outputs": [],
   "source": [
    "# Create a nested dictionary that holds the different classification algorithm and the parameters used to tune each of them.\n",
    "models_and_params = {\n",
    "    \"svm\": {\n",
    "        \"model\": SVC(gamma=\"auto\", probability=True),\n",
    "        \"params\": {\n",
    "            \"svc__C\": [1, 10, 100, 1000],\n",
    "            \"svc__kernel\": [\"rbf\", \"linear\"]\n",
    "        }\n",
    "    },\n",
    "    \n",
    "    \"logistic_regression\": {\n",
    "        \"model\": LogisticRegression(solver=\"liblinear\", multi_class=\"auto\"),\n",
    "        \"params\": {\n",
    "            \"logisticregression__C\": [1, 5, 10]\n",
    "        }\n",
    "    },\n",
    "    \n",
    "    \"random_forest\": {\n",
    "        \"model\": RandomForestClassifier(),\n",
    "        \"params\": {\n",
    "            \"randomforestclassifier__n_estimators\": [1, 5, 10]\n",
    "        }\n",
    "    }\n",
    "}"
   ]
  },
  {
   "cell_type": "code",
   "execution_count": 8,
   "id": "85c99040",
   "metadata": {},
   "outputs": [
    {
     "data": {
      "text/html": [
       "<div>\n",
       "<style scoped>\n",
       "    .dataframe tbody tr th:only-of-type {\n",
       "        vertical-align: middle;\n",
       "    }\n",
       "\n",
       "    .dataframe tbody tr th {\n",
       "        vertical-align: top;\n",
       "    }\n",
       "\n",
       "    .dataframe thead th {\n",
       "        text-align: right;\n",
       "    }\n",
       "</style>\n",
       "<table border=\"1\" class=\"dataframe\">\n",
       "  <thead>\n",
       "    <tr style=\"text-align: right;\">\n",
       "      <th></th>\n",
       "      <th>model</th>\n",
       "      <th>best_score</th>\n",
       "      <th>best_params</th>\n",
       "    </tr>\n",
       "  </thead>\n",
       "  <tbody>\n",
       "    <tr>\n",
       "      <th>0</th>\n",
       "      <td>svm</td>\n",
       "      <td>0.837798</td>\n",
       "      <td>{'svc__C': 1, 'svc__kernel': 'linear'}</td>\n",
       "    </tr>\n",
       "    <tr>\n",
       "      <th>1</th>\n",
       "      <td>logistic_regression</td>\n",
       "      <td>0.870706</td>\n",
       "      <td>{'logisticregression__C': 1}</td>\n",
       "    </tr>\n",
       "    <tr>\n",
       "      <th>2</th>\n",
       "      <td>random_forest</td>\n",
       "      <td>0.599192</td>\n",
       "      <td>{'randomforestclassifier__n_estimators': 10}</td>\n",
       "    </tr>\n",
       "  </tbody>\n",
       "</table>\n",
       "</div>"
      ],
      "text/plain": [
       "                 model  best_score  \\\n",
       "0                  svm    0.837798   \n",
       "1  logistic_regression    0.870706   \n",
       "2        random_forest    0.599192   \n",
       "\n",
       "                                    best_params  \n",
       "0        {'svc__C': 1, 'svc__kernel': 'linear'}  \n",
       "1                  {'logisticregression__C': 1}  \n",
       "2  {'randomforestclassifier__n_estimators': 10}  "
      ]
     },
     "execution_count": 8,
     "metadata": {},
     "output_type": "execute_result"
    }
   ],
   "source": [
    "# Run a loop that uses GridSearchCV to tune the parameters.\n",
    "cv=10\n",
    "scores = []\n",
    "best_estimators = {}\n",
    "for algorithm, mp in models_and_params.items():\n",
    "    pipeline = make_pipeline(StandardScaler(), mp[\"model\"])\n",
    "    # Training with Cross-validation.\n",
    "    classifier = GridSearchCV(pipeline, mp[\"params\"], cv=cv, return_train_score=False)  \n",
    "    classifier.fit(X_train, Y_train)\n",
    "    scores.append({\n",
    "        \"model\": algorithm,\n",
    "        \"best_score\": classifier.best_score_,\n",
    "        \"best_params\": classifier.best_params_\n",
    "    })\n",
    "    \n",
    "    # Save the best optimised model.\n",
    "    best_estimators[algorithm] = classifier.best_estimator_\n",
    "\n",
    "# View scores in a table to get more insight.\n",
    "df = pd.DataFrame(scores)\n",
    "df"
   ]
  },
  {
   "cell_type": "code",
   "execution_count": 9,
   "id": "8f502d38",
   "metadata": {
    "scrolled": true
   },
   "outputs": [
    {
     "data": {
      "text/plain": [
       "{'svm': Pipeline(steps=[('standardscaler', StandardScaler()),\n",
       "                 ('svc',\n",
       "                  SVC(C=1, gamma='auto', kernel='linear', probability=True))]),\n",
       " 'logistic_regression': Pipeline(steps=[('standardscaler', StandardScaler()),\n",
       "                 ('logisticregression',\n",
       "                  LogisticRegression(C=1, solver='liblinear'))]),\n",
       " 'random_forest': Pipeline(steps=[('standardscaler', StandardScaler()),\n",
       "                 ('randomforestclassifier',\n",
       "                  RandomForestClassifier(n_estimators=10))])}"
      ]
     },
     "execution_count": 9,
     "metadata": {},
     "output_type": "execute_result"
    }
   ],
   "source": [
    "best_estimators"
   ]
  },
  {
   "cell_type": "markdown",
   "id": "6fdf0a41",
   "metadata": {},
   "source": [
    "**best_estimators** holds the optimised models which we can evaluate using the test chunk of the dataset.\n",
    "\n",
    "Let's see how these optimised models perform...."
   ]
  },
  {
   "cell_type": "code",
   "execution_count": 10,
   "id": "967c791e",
   "metadata": {},
   "outputs": [
    {
     "name": "stdout",
     "output_type": "stream",
     "text": [
      "Accuracy of SVC model on the test set: 90.91%\n"
     ]
    }
   ],
   "source": [
    "svm_accuracy = best_estimators[\"svm\"].score(X_test, Y_test)\n",
    "print(f\"Accuracy of SVC model on the test set: {accuracy*100:.2f}%\")"
   ]
  },
  {
   "cell_type": "code",
   "execution_count": 11,
   "id": "e670b184",
   "metadata": {},
   "outputs": [
    {
     "name": "stdout",
     "output_type": "stream",
     "text": [
      "Accuracy of Logistic Regression model on the test set: 90.91%\n"
     ]
    }
   ],
   "source": [
    "lr_accuracy = best_estimators[\"logistic_regression\"].score(X_test, Y_test)\n",
    "print(f\"Accuracy of Logistic Regression model on the test set: {lr_accuracy*100:.2f}%\")"
   ]
  },
  {
   "cell_type": "code",
   "execution_count": 12,
   "id": "8cb3d7f0",
   "metadata": {},
   "outputs": [
    {
     "name": "stdout",
     "output_type": "stream",
     "text": [
      "Accuracy of Logistic Regression model on the test set: 87.27%\n"
     ]
    }
   ],
   "source": [
    "rfc_accuracy = best_estimators[\"random_forest\"].score(X_test, Y_test)\n",
    "print(f\"Accuracy of Logistic Regression model on the test set: {rfc_accuracy*100:.2f}%\")"
   ]
  },
  {
   "cell_type": "markdown",
   "id": "b5a0b97f",
   "metadata": {},
   "source": [
    "The SVC model proves to be the best model for this classification task, with over 90% accuracy; hence, it will be used for production.  \n",
    "\n",
    "However, there are cases where the model made errors because, it's not 100% perfect. We can see where the model made such errors and classified wrongly using a ***confusion matrix***.  "
   ]
  },
  {
   "cell_type": "code",
   "execution_count": 13,
   "id": "be22c82c",
   "metadata": {
    "scrolled": true
   },
   "outputs": [
    {
     "data": {
      "text/plain": [
       "array([[12,  0,  0,  0,  1,  0],\n",
       "       [ 0,  8,  0,  0,  0,  0],\n",
       "       [ 0,  0,  3,  0,  0,  2],\n",
       "       [ 0,  0,  0, 12,  0,  0],\n",
       "       [ 1,  0,  0,  0,  9,  0],\n",
       "       [ 0,  0,  1,  0,  0,  6]], dtype=int64)"
      ]
     },
     "execution_count": 13,
     "metadata": {},
     "output_type": "execute_result"
    }
   ],
   "source": [
    "cm = confusion_matrix(Y_test, best_estimators[\"svm\"].predict(X_test))\n",
    "cm"
   ]
  },
  {
   "cell_type": "markdown",
   "id": "44fcac24",
   "metadata": {},
   "source": [
    "This confusion matrix helps to assess the performance of the model in classifying each case correctly.  \n",
    "It is easier to understand the confusion matrix when plotted on a heatmap."
   ]
  },
  {
   "cell_type": "code",
   "execution_count": 14,
   "id": "f5953d71",
   "metadata": {},
   "outputs": [
    {
     "data": {
      "image/png": "[encoded data removed]",
      "text/plain": [
       "<Figure size 1080x504 with 2 Axes>"
      ]
     },
     "metadata": {
      "needs_background": "light"
     },
     "output_type": "display_data"
    }
   ],
   "source": [
    "# Plot the confusion matrix on a heatmap.\n",
    "plt.figure(figsize=(15,7))\n",
    "sns.heatmap(cm, annot=True)\n",
    "plt.xlabel(\"Predicted\", fontsize=30)\n",
    "plt.ylabel(\"Truth\", fontsize=30)\n",
    "plt.show()"
   ]
  },
  {
   "cell_type": "markdown",
   "id": "546fa2f9",
   "metadata": {},
   "source": [
    "There are six classes (0-5);  \n",
    "{'cristiano_ronaldo': 0,\n",
    " 'karim_benzema': 1,\n",
    " 'leo_messi': 2,\n",
    " 'mohamed_salah': 3,\n",
    " 'robert_lewandoski': 4,\n",
    " 'zlatan_ibrahimovic': 5}  \n",
    " \n",
    "X-axis: model's prediction, Y-axis: actual class.  \n",
    "The heatmap plots the model's prediction against the actual class.  \n",
    "The model was able to classify all of Leo Messi's images correctly(x:2, y:2).  \n",
    "Also, the model misclassified one of Cristiano Ronaldo's image as Karim Benzema(x:0, y:1), and correctly classified other images(x:0, y:0) "
   ]
  },
  {
   "cell_type": "markdown",
   "id": "01565713",
   "metadata": {},
   "source": [
    "We can now save the model and use it for production. I'll also save the label_dict variable."
   ]
  },
  {
   "cell_type": "code",
   "execution_count": 15,
   "id": "6a3c492a",
   "metadata": {},
   "outputs": [],
   "source": [
    "optimised_classifier = best_estimators[\"svm\"]\n",
    "# Save the model as a serialised object in a pickle file.\n",
    "with open(\"model.pickle\", \"wb\") as f:\n",
    "    pickle.dump(optimised_classifier, f)"
   ]
  },
  {
   "cell_type": "code",
   "execution_count": 18,
   "id": "36fe9d02",
   "metadata": {},
   "outputs": [],
   "source": [
    "%store -r label_dict\n",
    "# Save the label_dict variable as a json file.\n",
    "with open(\"label_dict.json\", \"w\") as f:\n",
    "    f.write(json.dumps(label_dict))"
   ]
  },
  {
   "cell_type": "code",
   "execution_count": 19,
   "id": "89b3d52d",
   "metadata": {},
   "outputs": [],
   "source": [
    "# ifunanyaScript"
   ]
  }
 ],
 "metadata": {
  "kernelspec": {
   "display_name": "Python 3 (ipykernel)",
   "language": "python",
   "name": "python3"
  },
  "language_info": {
   "codemirror_mode": {
    "name": "ipython",
    "version": 3
   },
   "file_extension": ".py",
   "mimetype": "text/x-python",
   "name": "python",
   "nbconvert_exporter": "python",
   "pygments_lexer": "ipython3",
   "version": "3.9.12"
  }
 },
 "nbformat": 4,
 "nbformat_minor": 5
}
