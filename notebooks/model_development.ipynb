{
 "cells": [
  {
   "cell_type": "markdown",
   "id": "c5ae5e25",
   "metadata": {},
   "source": [
    "# Model Development"
   ]
  },
  {
   "cell_type": "code",
   "execution_count": 22,
   "id": "5add9d63",
   "metadata": {},
   "outputs": [],
   "source": [
    "import pandas as pd\n",
    "import numpy as np\n",
    "from sklearn.model_selection import train_test_split as tts\n",
    "from sklearn.model_selection import GridSearchCV\n",
    "from sklearn.preprocessing import StandardScaler\n",
    "from sklearn.linear_model import LogisticRegression\n",
    "from sklearn.ensemble import RandomForestClassifier\n",
    "from sklearn.pipeline import Pipeline\n",
    "from sklearn.pipeline import make_pipeline\n",
    "from sklearn.svm import SVC\n",
    "from sklearn.metrics import classification_report as cr"
   ]
  },
  {
   "cell_type": "code",
   "execution_count": 17,
   "id": "02faf953",
   "metadata": {},
   "outputs": [],
   "source": [
    "# Load the training data variables\n",
    "%store -r X\n",
    "%store -r Y"
   ]
  },
  {
   "cell_type": "code",
   "execution_count": 18,
   "id": "5a39d6ba",
   "metadata": {},
   "outputs": [
    {
     "data": {
      "text/plain": [
       "((469, 4096), 469)"
      ]
     },
     "execution_count": 18,
     "metadata": {},
     "output_type": "execute_result"
    }
   ],
   "source": [
    "X.shape, len(Y)"
   ]
  },
  {
   "cell_type": "code",
   "execution_count": 11,
   "id": "98f5365c",
   "metadata": {},
   "outputs": [],
   "source": [
    "X_train, X_test, Y_train, Y_test = tts(X, Y, test_size=0.1, random_state=123)"
   ]
  },
  {
   "cell_type": "code",
   "execution_count": 19,
   "id": "26e9b33f",
   "metadata": {},
   "outputs": [
    {
     "name": "stdout",
     "output_type": "stream",
     "text": [
      "Accuracy of the classifier: 89.36%\n"
     ]
    }
   ],
   "source": [
    "C = 1000\n",
    "pipeline = Pipeline([(\"scaler\", StandardScaler()), (\"svc\", SVC(kernel=\"linear\", C=C))])\n",
    "pipeline.fit(X_train, Y_train)\n",
    "accuracy = pipeline.score(X_test, Y_test)\n",
    "print(f\"Accuracy of the classifier: {accuracy*100:.2f}%\")"
   ]
  },
  {
   "cell_type": "code",
   "execution_count": 20,
   "id": "b2735341",
   "metadata": {},
   "outputs": [
    {
     "name": "stdout",
     "output_type": "stream",
     "text": [
      "              precision    recall  f1-score   support\n",
      "\n",
      "           0       0.91      0.83      0.87        12\n",
      "           1       0.80      0.67      0.73         6\n",
      "           2       1.00      0.90      0.95        10\n",
      "           3       1.00      1.00      1.00         3\n",
      "           4       0.91      1.00      0.95        10\n",
      "           5       0.75      1.00      0.86         6\n",
      "\n",
      "    accuracy                           0.89        47\n",
      "   macro avg       0.89      0.90      0.89        47\n",
      "weighted avg       0.90      0.89      0.89        47\n",
      "\n"
     ]
    }
   ],
   "source": [
    "print(cr(Y_test, pipeline.predict(X_test)))"
   ]
  },
  {
   "cell_type": "code",
   "execution_count": 21,
   "id": "35182b1c",
   "metadata": {},
   "outputs": [],
   "source": [
    "models_and_params = {\n",
    "    \"svm\": {\n",
    "        \"model\": SVC(gamma=\"auto\", probability=True),\n",
    "        \"params\": {\n",
    "            \"svc__C\": [1, 10, 100, 1000],\n",
    "            \"svc__kernel\": [\"rbf\", \"linear\"]\n",
    "        }\n",
    "    },\n",
    "    \n",
    "    \"logistic_regression\": {\n",
    "        \"model\": LogisticRegression(solver=\"liblinear\", multi_class=\"auto\"),\n",
    "        \"params\": {\n",
    "            \"logisticregression__C\": [1, 5, 10]\n",
    "        }\n",
    "    },\n",
    "    \n",
    "    \"random_forest\": {\n",
    "        \"model\": RandomForestClassifier(),\n",
    "        \"params\": {\n",
    "            \"randomforestclassifier__n_estimators\": [1, 5, 10]\n",
    "        }\n",
    "    }\n",
    "}"
   ]
  },
  {
   "cell_type": "code",
   "execution_count": null,
   "id": "c5e3092a",
   "metadata": {},
   "outputs": [],
   "source": [
    "cv=5\n",
    "scores = []\n",
    "best_estimators = {}\n",
    "for algo, mp in models_and_params.items():\n",
    "    pipeline = make_pipeline(StandardScaler(), mp[\"model\"])\n",
    "    classifier = GridSearchCV(pipeline, mp[\"params\"], cv=cv, return_train_score=False)\n",
    "    classifier.fit(X_train, Y_train)\n",
    "    scores.append({\n",
    "        \"model\": algo,\n",
    "        \"best_score\": classifier.best_score_,\n",
    "        \"best_params\": classifier.best_params_\n",
    "    })\n",
    "    \n",
    "    best_estimators[algo] = classifier.best_estimator_\n",
    "\n",
    "df = pd.DataFrame(scores)\n",
    "df"
   ]
  },
  {
   "cell_type": "code",
   "execution_count": null,
   "id": "b1bc93ee",
   "metadata": {},
   "outputs": [],
   "source": []
  }
 ],
 "metadata": {
  "kernelspec": {
   "display_name": "Python 3 (ipykernel)",
   "language": "python",
   "name": "python3"
  },
  "language_info": {
   "codemirror_mode": {
    "name": "ipython",
    "version": 3
   },
   "file_extension": ".py",
   "mimetype": "text/x-python",
   "name": "python",
   "nbconvert_exporter": "python",
   "pygments_lexer": "ipython3",
   "version": "3.9.12"
  }
 },
 "nbformat": 4,
 "nbformat_minor": 5
}
